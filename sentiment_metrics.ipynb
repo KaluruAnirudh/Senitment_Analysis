{
 "cells": [
  {
   "cell_type": "code",
   "execution_count": 1,
   "id": "9e12c25f",
   "metadata": {},
   "outputs": [],
   "source": [
    "import pandas as pd\n",
    "\n",
    "# Load the sentiment-annotated dataset\n",
    "df = pd.read_csv(\"comments_with_sentiment.csv\")\n"
   ]
  },
  {
   "cell_type": "code",
   "execution_count": 2,
   "id": "c9fbf9c1",
   "metadata": {},
   "outputs": [
    {
     "name": "stdout",
     "output_type": "stream",
     "text": [
      "Positive-to-Negative Ratio: 0.5029489786300042\n"
     ]
    }
   ],
   "source": [
    "# Count each sentiment label\n",
    "sentiment_counts = df['sentiment'].value_counts()\n",
    "\n",
    "positive_count = sentiment_counts.get('POSITIVE', 0)\n",
    "negative_count = sentiment_counts.get('NEGATIVE', 0)\n",
    "\n",
    "# Calculate the ratio\n",
    "if negative_count > 0:\n",
    "    pos_neg_ratio = positive_count / negative_count\n",
    "else:\n",
    "    pos_neg_ratio = float('inf')  # If there are no negatives\n",
    "\n",
    "print(\"Positive-to-Negative Ratio:\", pos_neg_ratio)\n"
   ]
  },
  {
   "cell_type": "code",
   "execution_count": 3,
   "id": "6f90f28e",
   "metadata": {},
   "outputs": [
    {
     "name": "stdout",
     "output_type": "stream",
     "text": [
      "Sentiment Variability (Standard Deviation): 0.9437320320528932\n"
     ]
    }
   ],
   "source": [
    "# Convert sentiments to numerical values\n",
    "df['sentiment_score'] = df['sentiment'].map({'POSITIVE': 1, 'NEGATIVE': -1})\n",
    "\n",
    "# Calculate standard deviation\n",
    "sentiment_variability = df['sentiment_score'].std()\n",
    "\n",
    "print(\"Sentiment Variability (Standard Deviation):\", sentiment_variability)\n"
   ]
  }
 ],
 "metadata": {
  "kernelspec": {
   "display_name": "Python 3",
   "language": "python",
   "name": "python3"
  },
  "language_info": {
   "codemirror_mode": {
    "name": "ipython",
    "version": 3
   },
   "file_extension": ".py",
   "mimetype": "text/x-python",
   "name": "python",
   "nbconvert_exporter": "python",
   "pygments_lexer": "ipython3",
   "version": "3.10.0"
  }
 },
 "nbformat": 4,
 "nbformat_minor": 5
}
