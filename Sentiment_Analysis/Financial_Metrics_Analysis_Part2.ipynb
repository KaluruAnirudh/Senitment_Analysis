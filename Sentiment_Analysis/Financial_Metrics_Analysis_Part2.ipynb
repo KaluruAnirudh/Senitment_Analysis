{
 "cells": [
  {
   "cell_type": "code",
   "execution_count": 2,
   "id": "d35dbba5",
   "metadata": {},
   "outputs": [],
   "source": [
    "import pandas as pd\n",
    "\n",
    "df_comments = pd.read_csv(\"comments_with_sentiment.csv\")\n",
    "df_finance = pd.read_csv(\"cleaned_finance_cleaned.csv\")"
   ]
  },
  {
   "cell_type": "code",
   "execution_count": 3,
   "id": "c8058fc5",
   "metadata": {},
   "outputs": [],
   "source": [
    "# Example: if token is mentioned in a separate column\n",
    "# Otherwise, we might need to extract using regex/NLP\n",
    "merged_df = pd.merge(df_comments, df_finance, on=\"token_ticker\", how=\"inner\")\n"
   ]
  },
  {
   "cell_type": "code",
   "execution_count": 4,
   "id": "516493d9",
   "metadata": {},
   "outputs": [],
   "source": [
    "# Convert sentiment labels to numeric for correlation\n",
    "sentiment_map = {'POSITIVE': 1, 'NEGATIVE': -1, 'NEUTRAL': 0}\n",
    "merged_df['sentiment_score'] = merged_df['sentiment'].map(sentiment_map)\n",
    "\n",
    "# Average sentiment per token\n",
    "avg_sentiment = merged_df.groupby('token_ticker')['sentiment_score'].mean()\n",
    "avg_sentiment = avg_sentiment.reset_index()\n"
   ]
  },
  {
   "cell_type": "code",
   "execution_count": 5,
   "id": "ccdec698",
   "metadata": {},
   "outputs": [
    {
     "name": "stdout",
     "output_type": "stream",
     "text": [
      "Correlation between average sentiment and market cap: -0.004812791537305186\n"
     ]
    }
   ],
   "source": [
    "# Merge with market cap info\n",
    "sentiment_vs_finance = pd.merge(avg_sentiment, df_finance[['token_ticker', 'mCap']], on='token_ticker')\n",
    "\n",
    "# Correlation\n",
    "correlation = sentiment_vs_finance['sentiment_score'].corr(sentiment_vs_finance['mCap'])\n",
    "print(\"Correlation between average sentiment and market cap:\", correlation)\n"
   ]
  }
 ],
 "metadata": {
  "kernelspec": {
   "display_name": "Python 3",
   "language": "python",
   "name": "python3"
  },
  "language_info": {
   "codemirror_mode": {
    "name": "ipython",
    "version": 3
   },
   "file_extension": ".py",
   "mimetype": "text/x-python",
   "name": "python",
   "nbconvert_exporter": "python",
   "pygments_lexer": "ipython3",
   "version": "3.10.0"
  }
 },
 "nbformat": 4,
 "nbformat_minor": 5
}
