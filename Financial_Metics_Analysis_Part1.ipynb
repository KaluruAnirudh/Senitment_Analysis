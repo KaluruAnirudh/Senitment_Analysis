{
 "cells": [
  {
   "cell_type": "code",
   "execution_count": 6,
   "id": "0e8f5e78",
   "metadata": {},
   "outputs": [
    {
     "name": "stdout",
     "output_type": "stream",
     "text": [
      "Index(['token_name', 'token_ticker', 'token_address', 'description', 'mCap',\n",
      "       'createdAt', 'bonding_completeTime'],\n",
      "      dtype='object')\n",
      "              token_name token_ticker  \\\n",
      "0    Elon Musks nickname   SQUIRTBORN   \n",
      "1  Genshin Impact Mascot       Paimon   \n",
      "2                GROKWIF      GROKWIF   \n",
      "3             lightsaber   bbvvvvvvvv   \n",
      "4                Wyd Cat          WYD   \n",
      "\n",
      "                                  token_address  \\\n",
      "0  5njPgyEfBDvGxHtMTN86yQnNr1XTd3zy9D2eb84zpump   \n",
      "1  421c8S7CuhGMC3mVHi5Mfc76C8gLgTfUXrhmpBXypump   \n",
      "2  FR8PxCHHyDiRabwVqAb7cGSkLCna1oKqtKoAMS9Cpump   \n",
      "3  HLuDc8PnxJwrCeTJBUMSxo6j6rq5zJiRBJo1FF6Vpump   \n",
      "4  CgE4P7DuHyxCveixfuXbqUrC2KYLWMBwsTDPTQGspump   \n",
      "\n",
      "                                    description  mCap             createdAt  \\\n",
      "0                 We are all born from a squirt  5599  13/10/2024, 08:31:20   \n",
      "1                                           NaN  4387  29/10/2024, 19:52:40   \n",
      "2  Popular meme GrokWif vibes wif frens onchain  7875  15/08/2024, 21:57:02   \n",
      "3              bbvvvvvvvv bbvvvvvvvv bbvvvvvvvv  5551  17/10/2024, 04:26:15   \n",
      "4       Most curious cat on the blockchain meow  6127  02/08/2024, 13:55:47   \n",
      "\n",
      "   bonding_completeTime  \n",
      "0  13/10/2024, 08:33:39  \n",
      "1  29/10/2024, 19:54:26  \n",
      "2  15/08/2024, 21:57:00  \n",
      "3  17/10/2024, 04:27:45  \n",
      "4  02/08/2024, 14:04:56  \n"
     ]
    }
   ],
   "source": [
    "import pandas as pd\n",
    "\n",
    "# Load finance dataset\n",
    "df_finance = pd.read_csv(\"D:\\\\NIT_Trichy Project\\\\Sentiment_Analysis\\\\cleaned_finance_cleaned.csv\")\n",
    "\n",
    "# Quick preview\n",
    "print(df_finance.columns)\n",
    "print(df_finance.head())"
   ]
  },
  {
   "cell_type": "code",
   "execution_count": 7,
   "id": "ac2f040d",
   "metadata": {},
   "outputs": [
    {
     "name": "stderr",
     "output_type": "stream",
     "text": [
      "C:\\Users\\Kaluru Anirudh\\AppData\\Local\\Temp\\ipykernel_3040\\1797059035.py:2: UserWarning: Parsing dates in %d/%m/%Y, %H:%M:%S format when dayfirst=False (the default) was specified. Pass `dayfirst=True` or specify a format to silence this warning.\n",
      "  df_finance['createdAt'] = pd.to_datetime(df_finance['createdAt'], errors='coerce')\n",
      "C:\\Users\\Kaluru Anirudh\\AppData\\Local\\Temp\\ipykernel_3040\\1797059035.py:3: UserWarning: Parsing dates in %d/%m/%Y, %H:%M:%S format when dayfirst=False (the default) was specified. Pass `dayfirst=True` or specify a format to silence this warning.\n",
      "  df_finance['bonding_completeTime'] = pd.to_datetime(df_finance['bonding_completeTime'], errors='coerce')\n"
     ]
    }
   ],
   "source": [
    "# Convert relevant time columns to datetime format\n",
    "df_finance['createdAt'] = pd.to_datetime(df_finance['createdAt'], errors='coerce')\n",
    "df_finance['bonding_completeTime'] = pd.to_datetime(df_finance['bonding_completeTime'], errors='coerce')"
   ]
  },
  {
   "cell_type": "code",
   "execution_count": 8,
   "id": "927f4c0c",
   "metadata": {},
   "outputs": [
    {
     "name": "stdout",
     "output_type": "stream",
     "text": [
      "Market Entry Time: 2024-01-29 07:00:18\n"
     ]
    }
   ],
   "source": [
    "market_entry_time = df_finance['createdAt'].min()\n",
    "print(\"Market Entry Time:\", market_entry_time)"
   ]
  },
  {
   "cell_type": "code",
   "execution_count": 9,
   "id": "98439192",
   "metadata": {},
   "outputs": [
    {
     "name": "stdout",
     "output_type": "stream",
     "text": [
      "Peak Market Capitalization:\n",
      "Token: Peanut the Squirrel\n",
      "Value: 1289408400\n",
      "Time: 2024-10-31 22:21:41\n"
     ]
    }
   ],
   "source": [
    "# Convert mCap to numeric (in case it’s string or contains commas)\n",
    "df_finance['mCap'] = pd.to_numeric(df_finance['mCap'], errors='coerce')\n",
    "\n",
    "# Find the row with the highest market cap\n",
    "peak_row = df_finance.loc[df_finance['mCap'].idxmax()]\n",
    "peak_mcap = peak_row['mCap']\n",
    "peak_token = peak_row['token_name']\n",
    "peak_time = peak_row['createdAt']\n",
    "\n",
    "print(\"Peak Market Capitalization:\")\n",
    "print(f\"Token: {peak_token}\")\n",
    "print(f\"Value: {peak_mcap}\")\n",
    "print(f\"Time: {peak_time}\")\n"
   ]
  },
  {
   "cell_type": "code",
   "execution_count": 10,
   "id": "109a80a3",
   "metadata": {},
   "outputs": [
    {
     "name": "stdout",
     "output_type": "stream",
     "text": [
      "Number of missing values in 'mCap' column: 0\n"
     ]
    }
   ],
   "source": [
    "missing_mcap_count = df_finance['mCap'].isna().sum()\n",
    "print(\"Number of missing values in 'mCap' column:\", missing_mcap_count)\n"
   ]
  }
 ],
 "metadata": {
  "kernelspec": {
   "display_name": "Python 3",
   "language": "python",
   "name": "python3"
  },
  "language_info": {
   "codemirror_mode": {
    "name": "ipython",
    "version": 3
   },
   "file_extension": ".py",
   "mimetype": "text/x-python",
   "name": "python",
   "nbconvert_exporter": "python",
   "pygments_lexer": "ipython3",
   "version": "3.10.0"
  }
 },
 "nbformat": 4,
 "nbformat_minor": 5
}
